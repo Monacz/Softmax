{
 "cells": [
  {
   "cell_type": "markdown",
   "metadata": {},
   "source": [
    "В цій практичній роботі ми спробуємо реалізувати нейронну мережу з двох шарів (прихований і вихідний). Запропонований підхід стане заготовкою для реалізації наступних оптимізацій: MBGD, ADAM та регуляризації. \n",
    "\n",
    "Сьогодні ж вам пропонується додати до цього класу підтримку довільної кількості шарів та нейронів в них (наприклад, передавати їх параметром в конструктор, як це робиться в MLPClassifier за допомогою hidden_layer_sizes). Також потрібно передбачити можливість ранньої зупинки ітераційного процесу, якщо значення штрафної функції не покращуватиметься протягом певної кількості ітерацій. Наприклад, якщо протягом $k$ ітерацій штрафна функція за модулем не стане меншою, ніж на поточному кроці."
   ]
  },
  {
   "cell_type": "code",
   "execution_count": 75,
   "metadata": {},
   "outputs": [],
   "source": [
    "import numpy as np\n",
    "import pandas as pd\n",
    "from sklearn.model_selection import train_test_split\n",
    "from mpl_toolkits.mplot3d import Axes3D\n",
    "import matplotlib.pyplot as plt\n",
    "\n",
    "from matplotlib.colors import ListedColormap\n",
    "cm_bright = ListedColormap(['#FF0000', '#0000FF'])\n",
    "%matplotlib inline\n",
    "from sklearn.metrics import accuracy_score\n",
    "\n",
    "import sklearn.linear_model"
   ]
  },
  {
   "cell_type": "code",
   "execution_count": 76,
   "metadata": {},
   "outputs": [],
   "source": [
    "def plot_surface(cls, x_1, x_2, ax=None, threshold=0.5, contourf=False):\n",
    "    xx1, xx2 = np.meshgrid(np.linspace(x_1.min(), x_1.max(), 100), \n",
    "                           np.linspace(x_2.min(), x_2.max(), 100))\n",
    "\n",
    "    X_pred = np.c_[xx1.ravel(), xx2.ravel()]\n",
    "    pred = cls.predict_proba(X_pred)[:, 0]\n",
    "    Z = pred.reshape((100, 100))\n",
    "    if ax is None:\n",
    "        ax = plt.gca()\n",
    "    ax.contour(xx1, xx2, Z, levels=[threshold], colors='black')\n",
    "    ax.set_xlim((x_1.min(), x_1.max()))\n",
    "    ax.set_ylim((x_2.min(), x_2.max()))"
   ]
  },
  {
   "cell_type": "code",
   "execution_count": 77,
   "metadata": {},
   "outputs": [],
   "source": [
    "def plot_data(X, y):\n",
    "    ax = plt.gca()\n",
    "    ax.scatter(X[:,0], X[:,1], c=(y == 1), cmap=cm_bright)"
   ]
  },
  {
   "cell_type": "code",
   "execution_count": 217,
   "metadata": {},
   "outputs": [],
   "source": [
    "class NeuralNet:\n",
    "    \"\"\"\n",
    "    NN for binary classification\n",
    "    Attributes:\n",
    "    ...\n",
    "    \"\"\"\n",
    "    \n",
    "    def __init__(self, normalize = True, learning_rate = 0.01, num_iter = 30000,num_node=[20,1],accuracy=0.00001,lmbd=0.1,beta=0.5,eps=1e-8):\n",
    "        self.learning_rate = learning_rate\n",
    "        self.num_iter = num_iter\n",
    "        self.normalize = normalize\n",
    "        self.num_layer=len(num_node)\n",
    "        self.num_node=num_node\n",
    "        self.accuracy=accuracy\n",
    "        self.lmbd=lmbd\n",
    "        self.beta=beta;\n",
    "        self.eps=eps;\n",
    "        self.W=None\n",
    "        self.b=None\n",
    "        self.Z=None\n",
    "        self.A=None\n",
    "        self.dW=None\n",
    "        self.db=None\n",
    "        self.dZ=None\n",
    "        self.dA=None\n",
    "        self.SdW=None\n",
    "        self.Sdb=None\n",
    "    \n",
    "    def __normalize(self, X, mean = None, std = None):\n",
    "        \"\"\"\n",
    "        Зверніть увагу, що нормалізація вхідних даних є дуже важливою для швидкодії нейронних мереж.\n",
    "        \"\"\"\n",
    "        n = X.shape[0]        \n",
    "        m = mean\n",
    "        if m is None:\n",
    "            m = np.mean(X, axis=1).reshape((n, 1))\n",
    "        s = std\n",
    "        if s is None:\n",
    "            s = np.std(X, axis=1).reshape((n, 1))\n",
    "        X_new = (X - m) / s**2\n",
    "        \n",
    "        return X_new, m, s\n",
    "\n",
    "    def __sigmoid(self, Z):\n",
    "        \"\"\"\n",
    "        В наступних практичних потрібно буде додати підтримку й інших активаційних функцій - це один з гіперпараметрів. \n",
    "        Їх можна вибирати для всіх шарів одночасно або мати різні активаційні функції на кожному з них.\n",
    "        \"\"\"\n",
    "        return 1 / (1 + np.exp(-Z))\n",
    "    \n",
    "    \n",
    "    def __softmax(self, Z):\n",
    "        return np.exp(Z) / np.sum(np.exp(Z)) \n",
    "    \n",
    "    def __initialize_parameters(self, n_x):\n",
    "        \n",
    "        \n",
    "        self.W=[]\n",
    "        self.SdW=[]\n",
    "        \n",
    "        self.W.append(list(np.random.randn(self.num_node[0], n_x)/np.sqrt(n_x)))\n",
    "        self.b=[np.zeros((self.num_node[i], 1)) for i in range(self.num_layer)]\n",
    "        self.W=self.W+[list((np.random.randn(self.num_node[i],self.num_node[i-1])*\n",
    "                             np.sqrt(1/(self.num_node[i-1]+self.num_node[i])))) for i in range(1,self.num_layer)]\n",
    "        \n",
    "        self.SdW.append(list(np.zeros((self.num_node[0], n_x))))\n",
    "        self.SdW=self.SdW+[list(np.zeros((self.num_node[i],self.num_node[i-1]))) for i in range(1,self.num_layer)]\n",
    "        self.Sdb=[np.zeros((self.num_node[i], 1)) for i in range(self.num_layer)]\n",
    "\n",
    "       \n",
    "    def __forward_propagation(self, X):\n",
    "\n",
    "        self.Z=[]\n",
    "        self.A=[]\n",
    "        self.Z.append(np.dot(self.W[0], X) + self.b[0])\n",
    "        self.A.append(self.__sigmoid(self.Z[0]))\n",
    "\n",
    "        for i in range(1,len(self.W)-1):\n",
    "            self.Z.append(np.dot(self.W[i], self.A[i-1]) + self.b[i])\n",
    "            self.A.append(self.__softmax(self.Z[i]))\n",
    "            \n",
    "        self.Z.append(np.dot(self.W[-1], self.A[-1]) + self.b[-1])\n",
    "        self.A.append(self.__sigmoid(self.Z[-1]))\n",
    "        \n",
    "        return self.A[-1]\n",
    "    \n",
    "\n",
    "        \n",
    "    \n",
    "    def compute_cost(self, A, Y):\n",
    "        m = Y.shape[1]\n",
    "        res = Y * np.log(A) + (1 - Y) * np.log(1 - A)\n",
    "        norm = 0\n",
    "        for i in range(self.num_layer):\n",
    "            norm += np.linalg.norm(self.W[i], ord = 'fro')\n",
    "        J = -(1 / m) * np.sum(res)+self.lmbd*norm/(2*m)\n",
    "        return J\n",
    "        \n",
    "    def __backward_propagation(self, X, Y):\n",
    "        m = X.shape[1]\n",
    "        n = X.shape[0]\n",
    "        W, b,Z, A=self.W,self.b,self.Z,self.A\n",
    "\n",
    "      \n",
    "        self.dW,self.db,self.dZ,self.dA=[],[],[],[]\n",
    "        self.dZ.append(A[-1] - Y)\n",
    "        self.dW.append(1. / m * np.dot(self.dZ[-1], A[-2].T))\n",
    "        self.db.append(1. / m * np.sum(self.dZ[-1], axis = 1, keepdims = True))\n",
    "        self.dA.append(np.dot(np.array(W[-1]).T, self.dZ[-1]))       \n",
    "\n",
    "\n",
    "            \n",
    "\n",
    "        for i in range(self.num_layer-1):\n",
    "            self.dZ.append(np.multiply(self.dA[i], np.multiply(A[self.num_layer-2-i], 1 - A[self.num_layer-2-i])))\n",
    "            if(self.num_layer-3-i>=0):\n",
    "                self.dW.append( 1. / m * np.dot(self.dZ[i+1], A[self.num_layer-3-i].T))\n",
    "            else:\n",
    "                self.dW.append( 1. / m * np.dot(self.dZ[i+1], X.T))\n",
    "            self.db.append( 1. / m * np.sum(self.dZ[i+1], axis = 1, keepdims = True))\n",
    "            self.dA.append(np.dot(np.array(W[self.num_layer-2-i]).T, self.dZ[i+1]))\n",
    "       \n",
    "        self.dW.reverse()\n",
    "        self.db.reverse()\n",
    "        self.dZ.reverse()\n",
    "        self.dA.reverse()\n",
    "\n",
    "    \n",
    "    def __update_parameters(self,m):\n",
    "        for i in range(self.num_layer):\n",
    "            self.SdW[i]=self.beta*np.array(self.SdW[i])+(1-self.beta)*np.power(self.dW[i],2)\n",
    "            self.Sdb[i]=self.beta*np.array(self.Sdb[i])+(1-self.beta)*np.power(self.db[i],2)\n",
    "#             self.SdW = [np.array(i, dtype=float) for i in self.SdW]\n",
    "            self.W[i] = self.W[i] - self.learning_rate * self.dW[i]/( np.sqrt(self.SdW[i]) +self.eps)\n",
    "            self.b[i] = self.b[i] - self.learning_rate * self.db[i]/( np.sqrt(self.Sdb[i]) +self.eps)\n",
    "\n",
    "        \n",
    "    def fit(self, X_vert, Y_vert, print_cost = True):\n",
    "        \n",
    "        X, Y = X_vert.T, Y_vert.T\n",
    "        \n",
    "        if self.normalize:\n",
    "            X, self.__mean, self.__std = self.__normalize(X)\n",
    "        \n",
    "        costs = []\n",
    "        check = []\n",
    "        m = X.shape[1]\n",
    "        n_x = X.shape[0]\n",
    "        \n",
    "        self.__initialize_parameters(n_x)\n",
    " \n",
    "        for i in range(self.num_iter):\n",
    "            A = self.__forward_propagation(X)\n",
    "\n",
    "            cost = self.compute_cost(A, Y)\n",
    "            self.__backward_propagation(X, Y)\n",
    "\n",
    "            self.__update_parameters(m)\n",
    "        \n",
    "            check.append(cost)\n",
    "            if print_cost and i % 1000 == 0:\n",
    "                print(\"{}-th iteration: {}\".format(i, cost))\n",
    "\n",
    "            if i % 10 == 0:\n",
    "                costs.append(cost)\n",
    "                \n",
    "            if(len(check)>2 and abs(check[i]-check[i-1])<self.accuracy):\n",
    "                break\n",
    "\n",
    "        if print_cost:\n",
    "            plt.plot(costs)\n",
    "            plt.ylabel(\"Cost\")\n",
    "            plt.xlabel(\"Iteration, *1000\")\n",
    "            plt.show()\n",
    "    \n",
    "    def predict_proba(self, X_vert):\n",
    "        X = X_vert.T\n",
    "        if self.normalize:\n",
    "            X, _, _ = self.__normalize(X, self.__mean, self.__std)\n",
    "        \n",
    "        probs = self.__forward_propagation(X)[0]\n",
    "        \n",
    "        return np.column_stack((probs.T, 1 - probs.T))\n",
    "    \n",
    "    def predict(self, X_vert):\n",
    "        positive_probs = self.predict_proba(X_vert)[:, 0]\n",
    "        return (positive_probs >= 0.5).astype(int)"
   ]
  },
  {
   "cell_type": "markdown",
   "metadata": {},
   "source": [
    "Спочатку спробуйте цей клас на одній задачі, а потім на іншій."
   ]
  },
  {
   "cell_type": "code",
   "execution_count": 218,
   "metadata": {},
   "outputs": [],
   "source": [
    "#data_columns = [\"exam1\", \"exam2\"]\n",
    "#target_column = \"submitted\"\n",
    "#df = pd.read_csv(\"sats.csv\")\n",
    "#X, Y = df[data_columns].values, df[target_column].reshape((df.shape[0], 1))\n",
    "#print('Training set: X={}, y={}'.format(X.shape, Y.shape))"
   ]
  },
  {
   "cell_type": "code",
   "execution_count": 219,
   "metadata": {},
   "outputs": [
    {
     "name": "stdout",
     "output_type": "stream",
     "text": [
      "Training set: X=(118, 2), y=(118,)\n"
     ]
    }
   ],
   "source": [
    "data_columns = [\"test1\", \"test2\"]\n",
    "target_column = \"passed\"\n",
    "df = pd.read_csv(\"tests.csv\")\n",
    "X, Y = df[data_columns].values, df[target_column]\n",
    "print('Training set: X={}, y={}'.format(X.shape, Y.shape))"
   ]
  },
  {
   "cell_type": "code",
   "execution_count": 220,
   "metadata": {},
   "outputs": [
    {
     "data": {
      "image/png": "[encoded data removed]",
      "text/plain": [
       "<Figure size 432x288 with 1 Axes>"
      ]
     },
     "metadata": {
      "needs_background": "light"
     },
     "output_type": "display_data"
    }
   ],
   "source": [
    "plot_data(X, Y)"
   ]
  },
  {
   "cell_type": "code",
   "execution_count": 221,
   "metadata": {},
   "outputs": [],
   "source": [
    "cls = NeuralNet(normalize = True, learning_rate = 0.5, num_iter = 4000,num_node=[5,20,],accuracy=0.00000000001)"
   ]
  },
  {
   "cell_type": "code",
   "execution_count": 222,
   "metadata": {},
   "outputs": [
    {
     "name": "stdout",
     "output_type": "stream",
     "text": [
      "0-th iteration: 13.970048625390145\n",
      "1000-th iteration: 9.238014503513142\n",
      "2000-th iteration: 8.863342295525992\n",
      "3000-th iteration: 8.798526367576086\n"
     ]
    },
    {
     "data": {
      "image/png": "[encoded data removed]",
      "text/plain": [
       "<Figure size 432x288 with 1 Axes>"
      ]
     },
     "metadata": {
      "needs_background": "light"
     },
     "output_type": "display_data"
    }
   ],
   "source": [
    "cls.fit(X, Y.values.reshape((df.shape[0], 1)))"
   ]
  },
  {
   "cell_type": "code",
   "execution_count": 223,
   "metadata": {},
   "outputs": [],
   "source": [
    "#print(cls.parameters)"
   ]
  },
  {
   "cell_type": "code",
   "execution_count": 224,
   "metadata": {},
   "outputs": [
    {
     "data": {
      "text/plain": [
       "array([[0.54635273, 0.45364727],\n",
       "       [0.92599008, 0.07400992],\n",
       "       [0.23893974, 0.76106026],\n",
       "       [0.150004  , 0.849996  ],\n",
       "       [0.11709927, 0.88290073],\n",
       "       [0.91922541, 0.08077459],\n",
       "       [0.23042617, 0.76957383],\n",
       "       [0.54048411, 0.45951589],\n",
       "       [0.92561355, 0.07438645],\n",
       "       [0.92046006, 0.07953994],\n",
       "       [0.92598636, 0.07401364],\n",
       "       [0.78481016, 0.21518984],\n",
       "       [0.91194995, 0.08805005],\n",
       "       [0.1501241 , 0.8498759 ],\n",
       "       [0.92445477, 0.07554523],\n",
       "       [0.54635282, 0.45364718],\n",
       "       [0.44719718, 0.55280282],\n",
       "       [0.92597786, 0.07402214],\n",
       "       [0.54608027, 0.45391973],\n",
       "       [0.54634127, 0.45365873],\n",
       "       [0.92599104, 0.07400896],\n",
       "       [0.88922874, 0.11077126],\n",
       "       [0.73788984, 0.26211016],\n",
       "       [0.14999958, 0.85000042],\n",
       "       [0.78626867, 0.21373133],\n",
       "       [0.88464966, 0.11535034],\n",
       "       [0.27173574, 0.72826426],\n",
       "       [0.18028307, 0.81971693],\n",
       "       [0.54628692, 0.45371308],\n",
       "       [0.54641074, 0.45358926],\n",
       "       [0.92599871, 0.07400129],\n",
       "       [0.54635218, 0.45364782],\n",
       "       [0.31981532, 0.68018468],\n",
       "       [0.89294428, 0.10705572],\n",
       "       [0.0021918 , 0.9978082 ],\n",
       "       [0.92444571, 0.07555429],\n",
       "       [0.91331921, 0.08668079],\n",
       "       [0.13528858, 0.86471142],\n",
       "       [0.92599606, 0.07400394],\n",
       "       [0.00287302, 0.99712698],\n",
       "       [0.15000834, 0.84999166],\n",
       "       [0.54269263, 0.45730737],\n",
       "       [0.42311921, 0.57688079],\n",
       "       [0.90041907, 0.09958093],\n",
       "       [0.13465727, 0.86534273],\n",
       "       [0.92361912, 0.07638088],\n",
       "       [0.22628982, 0.77371018],\n",
       "       [0.00587662, 0.99412338],\n",
       "       [0.09027431, 0.90972569],\n",
       "       [0.22580025, 0.77419975],\n",
       "       [0.50402611, 0.49597389],\n",
       "       [0.04245792, 0.95754208],\n",
       "       [0.92123773, 0.07876227],\n",
       "       [0.14996934, 0.85003066],\n",
       "       [0.62962238, 0.37037762],\n",
       "       [0.49413634, 0.50586366],\n",
       "       [0.02839381, 0.97160619],\n",
       "       [0.91787959, 0.08212041],\n",
       "       [0.54635146, 0.45364854],\n",
       "       [0.54640249, 0.45359751],\n",
       "       [0.54635282, 0.45364718],\n",
       "       [0.92599923, 0.07400077],\n",
       "       [0.14999764, 0.85000236],\n",
       "       [0.13539142, 0.86460858],\n",
       "       [0.92583568, 0.07416432],\n",
       "       [0.92533134, 0.07466866],\n",
       "       [0.22166835, 0.77833165],\n",
       "       [0.23748148, 0.76251852],\n",
       "       [0.54635279, 0.45364721],\n",
       "       [0.13465326, 0.86534674],\n",
       "       [0.92597322, 0.07402678],\n",
       "       [0.15034223, 0.84965777],\n",
       "       [0.92599936, 0.07400064],\n",
       "       [0.92586231, 0.07413769],\n",
       "       [0.54628583, 0.45371417],\n",
       "       [0.92580503, 0.07419497],\n",
       "       [0.90642475, 0.09357525],\n",
       "       [0.92414484, 0.07585516],\n",
       "       [0.54634756, 0.45365244],\n",
       "       [0.92078692, 0.07921308],\n",
       "       [0.09628934, 0.90371066],\n",
       "       [0.92597854, 0.07402146],\n",
       "       [0.92553346, 0.07446654],\n",
       "       [0.54632573, 0.45367427],\n",
       "       [0.63776102, 0.36223898],\n",
       "       [0.74466881, 0.25533119],\n",
       "       [0.54355388, 0.45644612],\n",
       "       [0.14728462, 0.85271538],\n",
       "       [0.91661636, 0.08338364],\n",
       "       [0.13465327, 0.86534673],\n",
       "       [0.29695625, 0.70304375],\n",
       "       [0.9245547 , 0.0754453 ],\n",
       "       [0.92599799, 0.07400201],\n",
       "       [0.13465492, 0.86534508],\n",
       "       [0.24068053, 0.75931947],\n",
       "       [0.54583975, 0.45416025],\n",
       "       [0.92594006, 0.07405994],\n",
       "       [0.29445769, 0.70554231],\n",
       "       [0.13468095, 0.86531905],\n",
       "       [0.90791555, 0.09208445],\n",
       "       [0.92595289, 0.07404711],\n",
       "       [0.92599935, 0.07400065],\n",
       "       [0.92592317, 0.07407683],\n",
       "       [0.15055772, 0.84944228],\n",
       "       [0.13465339, 0.86534661],\n",
       "       [0.92594099, 0.07405901],\n",
       "       [0.5189586 , 0.4810414 ],\n",
       "       [0.54211529, 0.45788471],\n",
       "       [0.92022163, 0.07977837],\n",
       "       [0.92599929, 0.07400071],\n",
       "       [0.46559055, 0.53440945],\n",
       "       [0.88320124, 0.11679876],\n",
       "       [0.13537197, 0.86462803],\n",
       "       [0.92553292, 0.07446708],\n",
       "       [0.53858224, 0.46141776],\n",
       "       [0.92460373, 0.07539627],\n",
       "       [0.6733012 , 0.3266988 ],\n",
       "       [0.33231618, 0.66768382]])"
      ]
     },
     "execution_count": 224,
     "metadata": {},
     "output_type": "execute_result"
    }
   ],
   "source": [
    "Y_prob = cls.predict_proba(X)\n",
    "Y_prob\n",
    "\n",
    "#Я НЕ МОЖУ ЗРОЗУМІТИ ЧОМУ ВІН НЕ БАЧИТЬ SELF.__MEAN"
   ]
  },
  {
   "cell_type": "code",
   "execution_count": 225,
   "metadata": {},
   "outputs": [
    {
     "data": {
      "text/plain": [
       "array([1, 1, 0, 0, 0, 1, 0, 1, 1, 1, 1, 1, 1, 0, 1, 1, 0, 1, 1, 1, 1, 1,\n",
       "       1, 0, 1, 1, 0, 0, 1, 1, 1, 1, 0, 1, 0, 1, 1, 0, 1, 0, 0, 1, 0, 1,\n",
       "       0, 1, 0, 0, 0, 0, 1, 0, 1, 0, 1, 0, 0, 1, 1, 1, 1, 1, 0, 0, 1, 1,\n",
       "       0, 0, 1, 0, 1, 0, 1, 1, 1, 1, 1, 1, 1, 1, 0, 1, 1, 1, 1, 1, 1, 0,\n",
       "       1, 0, 0, 1, 1, 0, 0, 1, 1, 0, 0, 1, 1, 1, 1, 0, 0, 1, 1, 1, 1, 1,\n",
       "       0, 1, 0, 1, 1, 1, 1, 0])"
      ]
     },
     "execution_count": 225,
     "metadata": {},
     "output_type": "execute_result"
    }
   ],
   "source": [
    "Y_hat = cls.predict(X)\n",
    "Y_hat"
   ]
  },
  {
   "cell_type": "code",
   "execution_count": 226,
   "metadata": {},
   "outputs": [
    {
     "data": {
      "text/plain": [
       "0.788135593220339"
      ]
     },
     "execution_count": 226,
     "metadata": {},
     "output_type": "execute_result"
    }
   ],
   "source": [
    "accuracy_score(Y, Y_hat)"
   ]
  },
  {
   "cell_type": "code",
   "execution_count": 227,
   "metadata": {
    "scrolled": true
   },
   "outputs": [
    {
     "data": {
      "image/png": "[encoded data removed]",
      "text/plain": [
       "<Figure size 432x288 with 1 Axes>"
      ]
     },
     "metadata": {
      "needs_background": "light"
     },
     "output_type": "display_data"
    }
   ],
   "source": [
    "plot_data(X, Y)\n",
    "plot_surface(cls, X[:, 0], X[:, 1])"
   ]
  },
  {
   "cell_type": "markdown",
   "metadata": {},
   "source": [
    "Зверніть увагу на границю прийняття рішення. Модель старається побудувати складну криву, що може свідчити про її перетренування. Порівняйте отримані результати з класом з sklearn. Спробуйте додати нові шари для нашого класу та порівняти результати тоді. Поекспериментуйте з гіперпараметрами для обох класів."
   ]
  },
  {
   "cell_type": "code",
   "execution_count": 228,
   "metadata": {},
   "outputs": [],
   "source": [
    "from sklearn.neural_network import MLPClassifier\n",
    "clf = MLPClassifier(hidden_layer_sizes = (20,), max_iter = 10000, activation = 'relu', solver = 'sgd', learning_rate_init = 0.01, learning_rate = 'constant')"
   ]
  },
  {
   "cell_type": "code",
   "execution_count": 229,
   "metadata": {},
   "outputs": [
    {
     "data": {
      "text/plain": [
       "MLPClassifier(activation='relu', alpha=0.0001, batch_size='auto', beta_1=0.9,\n",
       "              beta_2=0.999, early_stopping=False, epsilon=1e-08,\n",
       "              hidden_layer_sizes=(20,), learning_rate='constant',\n",
       "              learning_rate_init=0.01, max_iter=10000, momentum=0.9,\n",
       "              n_iter_no_change=10, nesterovs_momentum=True, power_t=0.5,\n",
       "              random_state=None, shuffle=True, solver='sgd', tol=0.0001,\n",
       "              validation_fraction=0.1, verbose=False, warm_start=False)"
      ]
     },
     "execution_count": 229,
     "metadata": {},
     "output_type": "execute_result"
    }
   ],
   "source": [
    "clf.fit(X, Y)"
   ]
  },
  {
   "cell_type": "code",
   "execution_count": 125,
   "metadata": {},
   "outputs": [
    {
     "data": {
      "image/png": "[encoded data removed]",
      "text/plain": [
       "<Figure size 432x288 with 1 Axes>"
      ]
     },
     "metadata": {
      "needs_background": "light"
     },
     "output_type": "display_data"
    }
   ],
   "source": [
    "plot_data(X, Y)\n",
    "plot_surface(clf, X[:, 0], X[:, 1])"
   ]
  },
  {
   "cell_type": "code",
   "execution_count": 126,
   "metadata": {},
   "outputs": [
    {
     "data": {
      "text/plain": [
       "0.8559322033898306"
      ]
     },
     "execution_count": 126,
     "metadata": {},
     "output_type": "execute_result"
    }
   ],
   "source": [
    "accuracy_score(Y, clf.predict(X))"
   ]
  },
  {
   "cell_type": "code",
   "execution_count": null,
   "metadata": {
    "collapsed": true
   },
   "outputs": [],
   "source": []
  }
 ],
 "metadata": {
  "anaconda-cloud": {},
  "kernelspec": {
   "display_name": "Python 3",
   "language": "python",
   "name": "python3"
  },
  "language_info": {
   "codemirror_mode": {
    "name": "ipython",
    "version": 3
   },
   "file_extension": ".py",
   "mimetype": "text/x-python",
   "name": "python",
   "nbconvert_exporter": "python",
   "pygments_lexer": "ipython3",
   "version": "3.7.4"
  }
 },
 "nbformat": 4,
 "nbformat_minor": 1
}
